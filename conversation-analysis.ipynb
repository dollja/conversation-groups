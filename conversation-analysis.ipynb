{
 "cells": [
  {
   "cell_type": "code",
   "execution_count": 2,
   "metadata": {
    "_cell_guid": "b1076dfc-b9ad-4769-8c92-a6c4dae69d19",
    "_uuid": "8f2839f25d086af736a60e9eeb907d3b93b6e0e5"
   },
   "outputs": [
    {
     "name": "stdout",
     "output_type": "stream",
     "text": [
      "['appos.json', 'conversation1.txt', 'conversation2.txt', 'conversation3.txt', 'conversation_part_examples.pdf', 'thirdperson.json']\n"
     ]
    }
   ],
   "source": [
    "# This Python 3 environment comes with many helpful analytics libraries installed\n",
    "# It is defined by the kaggle/python docker image: https://github.com/kaggle/docker-python\n",
    "# For example, here's several helpful packages to load in \n",
    "\n",
    "import numpy as np # linear algebra\n",
    "import pandas as pd # data processing, CSV file I/O (e.g. pd.read_csv)\n",
    "\n",
    "# Input data files are available in the \"../input/\" directory.\n",
    "# For example, running this (by clicking run or pressing Shift+Enter) will list the files in the input directory\n",
    "\n",
    "import os\n",
    "print(os.listdir(\"input\"))\n",
    "# Any results you write to the current directory are saved as output."
   ]
  },
  {
   "cell_type": "markdown",
   "metadata": {},
   "source": [
    "# Reading Conversation"
   ]
  },
  {
   "cell_type": "code",
   "execution_count": 3,
   "metadata": {
    "_cell_guid": "79c7e3d0-c299-4dcb-8224-4455121ee9b0",
    "_uuid": "d629ff2d2480ee46fbb7e2d37f6b5fab8052498a"
   },
   "outputs": [],
   "source": [
    "convo1text = open(\"input/conversation1.txt\", \"r\").readlines()"
   ]
  },
  {
   "cell_type": "code",
   "execution_count": null,
   "metadata": {},
   "outputs": [],
   "source": [
    "convo1text"
   ]
  },
  {
   "cell_type": "markdown",
   "metadata": {},
   "source": [
    "# Data Cleaning \n",
    "\n",
    "Removing '\\n' from the data"
   ]
  },
  {
   "cell_type": "code",
   "execution_count": 4,
   "metadata": {},
   "outputs": [
    {
     "name": "stdout",
     "output_type": "stream",
     "text": [
      "[\"Meeting Chairman: If we are all here, let's get started. First of all, I'd like you to please join me in welcoming Jack Peterson, our Southwest Area Sales Vice President.\", \"Jack Peterson: Thank you for having me, I'm looking forward to today's meeting.\", \"Meeting Chairman: I'd also like to introduce Margaret Simmons who recently joined our team.\", 'Margaret Simmons: May I also introduce my assistant, Bob Hamp.', \"Meeting Chairman: Welcome Bob. I'm afraid our national sales director, Anne Trusting, can't be with us today. She is in Kobe at the moment, developing our Far East sales force.\", \"Meeting Chairman: Let's get started. We're here today to discuss ways of improving sales in rural market areas. First, let's go over the report from the last meeting which was held on June 24th. Right, Tom, over to you.\", \"Tom Robbins: Thank you Mark. Let me just summarize the main points of the last meeting. We began the meeting by approving the changes in our sales reporting system discussed on May 30th. After briefly revising the changes that will take place, we moved on to a brainstorming session concerning after customer support improvements. You'll find a copy of the main ideas developed and discussed in these sessions in the photocopies in front of you. The meeting was declared closed at 11.30.\", \"Meeting Chairman: Thank you Tom. So, if there is nothing else we need to discuss, let's move on to today's agenda. Have you all received a copy of today's agenda? If you don't mind, I'd like to skip item 1 and move on to item 2: Sales improvement in rural market areas. Jack has kindly agreed to give us a report on this matter. Jack?\", \"Jack Peterson: Before I begin the report, I'd like to get some ideas from you all. How do you feel about rural sales in your sales districts? I suggest we go round the table first to get all of your input.\", 'John Ruting: In my opinion, we have been focusing too much on urban customers and their needs. The way I see things, we need to return to our rural base by developing an advertising campaign to focus on their particular needs.', \"Alice Linnes: I'm afraid I can't agree with you. I think rural customers want to feel as important as our customers living in cities. I suggest we give our rural sales teams more help with advanced customer information reporting.\", \"Donald Peters: Excuse me, I didn't catch that. Could you repeat that, please?\", 'Alice Linnes: I just stated that we need to give our rural sales teams better customer information reporting.', \"John Ruting: I don't quite follow you. What exactly do you mean?\", 'Alice Linnes: Well, we provide our city sales staff with database information on all of our larger clients. We should be providing the same sort of knowledge on our rural customers to our sales staff there.', 'Jack Peterson: Would you like to add anything, Jennifer?', 'Jennifer Miles: I must admit I never thought about rural sales that way before. I have to agree with Alice.', 'Jack Peterson: Well, let me begin with this Power Point presentation (Jack presents his report). As you can see, we are developing new methods to reach out to our rural customers.', \"John Ruting: I suggest we break up into groups and discuss the ideas we've seen presented.\", \"Meeting Chairman: Unfortunately, we're running short of time. We'll have to leave that to another time.\", 'Jack Peterson: Before we close, let me just summarize the main points:', 'Rural customers need special help to feel more valued.', 'Our sales teams need more accurate information on our customers.', 'A survey will be completed to collect data on spending habits in these areas.', 'The results of this survey will be delivered to our sales teaMs', 'We are considering specific data mining procedures to help deepen our understanding.', \"Meeting Chairman: Thank you very much Jack. Right, it looks as though we've covered the main items Is there any other business?\", 'Donald Peters: Can we fix the next meeting, please?', \"Meeting Chairman: Good idea Donald. How does Friday in two weeks time sound to everyone? Let's meet at the same time, 9 o'clock. Is that OK for everyone? Excellent. I'd like to thank Jack for coming to our meeting today. The meeting is closed.\"]\n"
     ]
    }
   ],
   "source": [
    "newConvo = []\n",
    "for sent in convo1text:\n",
    "    sent = sent.strip(\"\\n\")\n",
    "    if not sent is '':\n",
    "        newConvo.append(sent)\n",
    "    \n",
    "convo1text = newConvo\n",
    "print(convo1text)"
   ]
  },
  {
   "cell_type": "markdown",
   "metadata": {},
   "source": [
    "# Appneding speaker at places where the user lists the points"
   ]
  },
  {
   "cell_type": "code",
   "execution_count": 5,
   "metadata": {},
   "outputs": [
    {
     "data": {
      "text/plain": [
       "[\"Meeting Chairman: If we are all here, let's get started. First of all, I'd like you to please join me in welcoming Jack Peterson, our Southwest Area Sales Vice President.\",\n",
       " \"Jack Peterson: Thank you for having me, I'm looking forward to today's meeting.\",\n",
       " \"Meeting Chairman: I'd also like to introduce Margaret Simmons who recently joined our team.\",\n",
       " 'Margaret Simmons: May I also introduce my assistant, Bob Hamp.',\n",
       " \"Meeting Chairman: Welcome Bob. I'm afraid our national sales director, Anne Trusting, can't be with us today. She is in Kobe at the moment, developing our Far East sales force.\",\n",
       " \"Meeting Chairman: Let's get started. We're here today to discuss ways of improving sales in rural market areas. First, let's go over the report from the last meeting which was held on June 24th. Right, Tom, over to you.\",\n",
       " \"Tom Robbins: Thank you Mark. Let me just summarize the main points of the last meeting. We began the meeting by approving the changes in our sales reporting system discussed on May 30th. After briefly revising the changes that will take place, we moved on to a brainstorming session concerning after customer support improvements. You'll find a copy of the main ideas developed and discussed in these sessions in the photocopies in front of you. The meeting was declared closed at 11.30.\",\n",
       " \"Meeting Chairman: Thank you Tom. So, if there is nothing else we need to discuss, let's move on to today's agenda. Have you all received a copy of today's agenda? If you don't mind, I'd like to skip item 1 and move on to item 2: Sales improvement in rural market areas. Jack has kindly agreed to give us a report on this matter. Jack?\",\n",
       " \"Jack Peterson: Before I begin the report, I'd like to get some ideas from you all. How do you feel about rural sales in your sales districts? I suggest we go round the table first to get all of your input.\",\n",
       " 'John Ruting: In my opinion, we have been focusing too much on urban customers and their needs. The way I see things, we need to return to our rural base by developing an advertising campaign to focus on their particular needs.',\n",
       " \"Alice Linnes: I'm afraid I can't agree with you. I think rural customers want to feel as important as our customers living in cities. I suggest we give our rural sales teams more help with advanced customer information reporting.\",\n",
       " \"Donald Peters: Excuse me, I didn't catch that. Could you repeat that, please?\",\n",
       " 'Alice Linnes: I just stated that we need to give our rural sales teams better customer information reporting.',\n",
       " \"John Ruting: I don't quite follow you. What exactly do you mean?\",\n",
       " 'Alice Linnes: Well, we provide our city sales staff with database information on all of our larger clients. We should be providing the same sort of knowledge on our rural customers to our sales staff there.',\n",
       " 'Jack Peterson: Would you like to add anything, Jennifer?',\n",
       " 'Jennifer Miles: I must admit I never thought about rural sales that way before. I have to agree with Alice.',\n",
       " 'Jack Peterson: Well, let me begin with this Power Point presentation (Jack presents his report). As you can see, we are developing new methods to reach out to our rural customers.',\n",
       " \"John Ruting: I suggest we break up into groups and discuss the ideas we've seen presented.\",\n",
       " \"Meeting Chairman: Unfortunately, we're running short of time. We'll have to leave that to another time.\",\n",
       " 'Jack Peterson: Before we close, let me just summarize the main points:',\n",
       " 'Jack Peterson:Rural customers need special help to feel more valued.',\n",
       " 'Jack Peterson:Our sales teams need more accurate information on our customers.',\n",
       " 'Jack Peterson:A survey will be completed to collect data on spending habits in these areas.',\n",
       " 'Jack Peterson:The results of this survey will be delivered to our sales teaMs',\n",
       " 'Jack Peterson:We are considering specific data mining procedures to help deepen our understanding.',\n",
       " \"Meeting Chairman: Thank you very much Jack. Right, it looks as though we've covered the main items Is there any other business?\",\n",
       " 'Donald Peters: Can we fix the next meeting, please?',\n",
       " \"Meeting Chairman: Good idea Donald. How does Friday in two weeks time sound to everyone? Let's meet at the same time, 9 o'clock. Is that OK for everyone? Excellent. I'd like to thank Jack for coming to our meeting today. The meeting is closed.\"]"
      ]
     },
     "execution_count": 5,
     "metadata": {},
     "output_type": "execute_result"
    }
   ],
   "source": [
    "for index,sent in enumerate(convo1text):\n",
    "    if sent.count(':') > 0:\n",
    "        previousSpeaker = sent.split(':')[0]\n",
    "    if sent.count(':') == 0:\n",
    "        convo1text[index] = previousSpeaker + ':' + sent\n",
    "        \n",
    "convo1text\n",
    "\n"
   ]
  },
  {
   "cell_type": "code",
   "execution_count": 6,
   "metadata": {},
   "outputs": [],
   "source": [
    "conversation1 = []\n",
    "for sent in convo1text:\n",
    "    convo = sent.split(':')\n",
    "    if len(convo) > 2:\n",
    "        convo[1] += ('-').join(convo[2:])\n",
    "    convo = convo[:2]\n",
    "    convo[1] = convo[1].strip()\n",
    "    if not convo[1] is '':\n",
    "        conversation1.append([c for c in convo])"
   ]
  },
  {
   "cell_type": "code",
   "execution_count": 7,
   "metadata": {},
   "outputs": [
    {
     "data": {
      "text/plain": [
       "[['Meeting Chairman',\n",
       "  \"If we are all here, let's get started. First of all, I'd like you to please join me in welcoming Jack Peterson, our Southwest Area Sales Vice President.\"],\n",
       " ['Jack Peterson',\n",
       "  \"Thank you for having me, I'm looking forward to today's meeting.\"],\n",
       " ['Meeting Chairman',\n",
       "  \"I'd also like to introduce Margaret Simmons who recently joined our team.\"],\n",
       " ['Margaret Simmons', 'May I also introduce my assistant, Bob Hamp.'],\n",
       " ['Meeting Chairman',\n",
       "  \"Welcome Bob. I'm afraid our national sales director, Anne Trusting, can't be with us today. She is in Kobe at the moment, developing our Far East sales force.\"],\n",
       " ['Meeting Chairman',\n",
       "  \"Let's get started. We're here today to discuss ways of improving sales in rural market areas. First, let's go over the report from the last meeting which was held on June 24th. Right, Tom, over to you.\"],\n",
       " ['Tom Robbins',\n",
       "  \"Thank you Mark. Let me just summarize the main points of the last meeting. We began the meeting by approving the changes in our sales reporting system discussed on May 30th. After briefly revising the changes that will take place, we moved on to a brainstorming session concerning after customer support improvements. You'll find a copy of the main ideas developed and discussed in these sessions in the photocopies in front of you. The meeting was declared closed at 11.30.\"],\n",
       " ['Meeting Chairman',\n",
       "  \"Thank you Tom. So, if there is nothing else we need to discuss, let's move on to today's agenda. Have you all received a copy of today's agenda? If you don't mind, I'd like to skip item 1 and move on to item 2 Sales improvement in rural market areas. Jack has kindly agreed to give us a report on this matter. Jack?\"],\n",
       " ['Jack Peterson',\n",
       "  \"Before I begin the report, I'd like to get some ideas from you all. How do you feel about rural sales in your sales districts? I suggest we go round the table first to get all of your input.\"],\n",
       " ['John Ruting',\n",
       "  'In my opinion, we have been focusing too much on urban customers and their needs. The way I see things, we need to return to our rural base by developing an advertising campaign to focus on their particular needs.'],\n",
       " ['Alice Linnes',\n",
       "  \"I'm afraid I can't agree with you. I think rural customers want to feel as important as our customers living in cities. I suggest we give our rural sales teams more help with advanced customer information reporting.\"],\n",
       " ['Donald Peters',\n",
       "  \"Excuse me, I didn't catch that. Could you repeat that, please?\"],\n",
       " ['Alice Linnes',\n",
       "  'I just stated that we need to give our rural sales teams better customer information reporting.'],\n",
       " ['John Ruting', \"I don't quite follow you. What exactly do you mean?\"],\n",
       " ['Alice Linnes',\n",
       "  'Well, we provide our city sales staff with database information on all of our larger clients. We should be providing the same sort of knowledge on our rural customers to our sales staff there.'],\n",
       " ['Jack Peterson', 'Would you like to add anything, Jennifer?'],\n",
       " ['Jennifer Miles',\n",
       "  'I must admit I never thought about rural sales that way before. I have to agree with Alice.'],\n",
       " ['Jack Peterson',\n",
       "  'Well, let me begin with this Power Point presentation (Jack presents his report). As you can see, we are developing new methods to reach out to our rural customers.'],\n",
       " ['John Ruting',\n",
       "  \"I suggest we break up into groups and discuss the ideas we've seen presented.\"],\n",
       " ['Meeting Chairman',\n",
       "  \"Unfortunately, we're running short of time. We'll have to leave that to another time.\"],\n",
       " ['Jack Peterson', 'Before we close, let me just summarize the main points'],\n",
       " ['Jack Peterson', 'Rural customers need special help to feel more valued.'],\n",
       " ['Jack Peterson',\n",
       "  'Our sales teams need more accurate information on our customers.'],\n",
       " ['Jack Peterson',\n",
       "  'A survey will be completed to collect data on spending habits in these areas.'],\n",
       " ['Jack Peterson',\n",
       "  'The results of this survey will be delivered to our sales teaMs'],\n",
       " ['Jack Peterson',\n",
       "  'We are considering specific data mining procedures to help deepen our understanding.'],\n",
       " ['Meeting Chairman',\n",
       "  \"Thank you very much Jack. Right, it looks as though we've covered the main items Is there any other business?\"],\n",
       " ['Donald Peters', 'Can we fix the next meeting, please?'],\n",
       " ['Meeting Chairman',\n",
       "  \"Good idea Donald. How does Friday in two weeks time sound to everyone? Let's meet at the same time, 9 o'clock. Is that OK for everyone? Excellent. I'd like to thank Jack for coming to our meeting today. The meeting is closed.\"]]"
      ]
     },
     "execution_count": 7,
     "metadata": {},
     "output_type": "execute_result"
    }
   ],
   "source": [
    "conversation1"
   ]
  },
  {
   "cell_type": "markdown",
   "metadata": {},
   "source": [
    "# Replacing Pronouns"
   ]
  },
  {
   "cell_type": "code",
   "execution_count": 8,
   "metadata": {},
   "outputs": [
    {
     "data": {
      "text/plain": [
       "{\"aren't\": 'are not',\n",
       " \"can't\": 'cannot',\n",
       " \"couldn't\": 'could not',\n",
       " \"didn't\": 'did not',\n",
       " \"doesn't\": 'does not',\n",
       " \"don't\": 'do not',\n",
       " \"hadn't\": 'had not',\n",
       " \"hasn't\": 'has not',\n",
       " \"haven't\": 'have not',\n",
       " \"he'd\": 'he would',\n",
       " \"he'll\": 'he will',\n",
       " \"he's\": 'he is',\n",
       " \"i'd\": 'I had',\n",
       " \"i'll\": 'I will',\n",
       " \"i'm\": 'I am',\n",
       " \"isn't\": 'is not',\n",
       " \"it's\": 'it is',\n",
       " \"it'll\": 'it will',\n",
       " \"i've\": 'I have',\n",
       " \"let's\": 'let us',\n",
       " \"mightn't\": 'might not',\n",
       " \"mustn't\": 'must not',\n",
       " \"shan't\": 'shall not',\n",
       " \"she'd\": 'she would',\n",
       " \"she'll\": 'she will',\n",
       " \"she's\": 'she is',\n",
       " \"shouldn't\": 'should not',\n",
       " \"that's\": 'that is',\n",
       " \"there's\": 'there is',\n",
       " \"they'd\": 'they would',\n",
       " \"they'll\": 'they will',\n",
       " \"they're\": 'they are',\n",
       " \"they've\": 'they have',\n",
       " \"we'd\": 'we would',\n",
       " \"we're\": 'we are',\n",
       " \"weren't\": 'were not',\n",
       " \"we've\": 'we have',\n",
       " \"what'll\": 'what will',\n",
       " \"what're\": 'what are',\n",
       " \"what's\": 'what is',\n",
       " \"what've\": 'what have',\n",
       " \"where's\": 'where is',\n",
       " \"who'd\": 'who would',\n",
       " \"who'll\": 'who will',\n",
       " \"who're\": 'who are',\n",
       " \"who's\": 'who is',\n",
       " \"who've\": 'who have',\n",
       " \"won't\": 'will not',\n",
       " \"wouldn't\": 'would not',\n",
       " \"you'd\": 'you would',\n",
       " \"you'll\": 'you will',\n",
       " \"you're\": 'you are',\n",
       " \"you've\": 'you have',\n",
       " \"'re\": ' are',\n",
       " \"wasn't\": 'was not',\n",
       " \"we'll\": ' will'}"
      ]
     },
     "execution_count": 8,
     "metadata": {},
     "output_type": "execute_result"
    }
   ],
   "source": [
    "import json\n",
    "with open(\"input/appos.json\", \"r\") as read_file:\n",
    "    data = json.load(read_file)\n",
    "    \n",
    "appos = data['appos']\n",
    "appos"
   ]
  },
  {
   "cell_type": "code",
   "execution_count": 9,
   "metadata": {},
   "outputs": [],
   "source": [
    "import re\n",
    "processedConversation = []\n",
    "for speaker, dialog in conversation1:\n",
    "    for (key, val) in appos.items():\n",
    "        dialog = dialog.lower()\n",
    "        dialog = dialog.replace(key, val)\n",
    "        dialog = re.sub(r\"([\\w/'+$\\s-]+|[^\\w/'+$\\s-]+)\\s*\", r\"\\1 \", dialog)\n",
    "        dialog = ' ' + dialog + ' '\n",
    "        dialog = re.sub(' +', ' ',dialog)\n",
    "        \n",
    "    processedConversation.append([speaker, dialog])\n",
    "        \n"
   ]
  },
  {
   "cell_type": "code",
   "execution_count": 10,
   "metadata": {},
   "outputs": [
    {
     "data": {
      "text/plain": [
       "[['Meeting Chairman',\n",
       "  ' if we are all here , let us get started . first of all , i had like you to please join me in welcoming jack peterson , our southwest area sales vice president . '],\n",
       " ['Jack Peterson',\n",
       "  \" thank you for having me , i am looking forward to today's meeting . \"],\n",
       " ['Meeting Chairman',\n",
       "  ' i had also like to introduce margaret simmons who recently joined our team . '],\n",
       " ['Margaret Simmons', ' may i also introduce my assistant , bob hamp . '],\n",
       " ['Meeting Chairman',\n",
       "  ' welcome bob . i am afraid our national sales director , anne trusting , cannot be with us today . she is in kobe at the moment , developing our far east sales force . '],\n",
       " ['Meeting Chairman',\n",
       "  ' let us get started . we are here today to discuss ways of improving sales in rural market areas . first , let us go over the report from the last meeting which was held on june 24th . right , tom , over to you . '],\n",
       " ['Tom Robbins',\n",
       "  ' thank you mark . let me just summarize the main points of the last meeting . we began the meeting by approving the changes in our sales reporting system discussed on may 30th . after briefly revising the changes that will take place , we moved on to a brainstorming session concerning after customer support improvements . you will find a copy of the main ideas developed and discussed in these sessions in the photocopies in front of you . the meeting was declared closed at 11 . 30 . '],\n",
       " ['Meeting Chairman',\n",
       "  \" thank you tom . so , if there is nothing else we need to discuss , let us move on to today's agenda . have you all received a copy of today's agenda ? if you do not mind , i had like to skip item 1 and move on to item 2 sales improvement in rural market areas . jack has kindly agreed to give us a report on this matter . jack ? \"],\n",
       " ['Jack Peterson',\n",
       "  ' before i begin the report , i had like to get some ideas from you all . how do you feel about rural sales in your sales districts ? i suggest we go round the table first to get all of your input . '],\n",
       " ['John Ruting',\n",
       "  ' in my opinion , we have been focusing too much on urban customers and their needs . the way i see things , we need to return to our rural base by developing an advertising campaign to focus on their particular needs . '],\n",
       " ['Alice Linnes',\n",
       "  ' i am afraid i cannot agree with you . i think rural customers want to feel as important as our customers living in cities . i suggest we give our rural sales teams more help with advanced customer information reporting . '],\n",
       " ['Donald Peters',\n",
       "  ' excuse me , i did not catch that . could you repeat that , please ? '],\n",
       " ['Alice Linnes',\n",
       "  ' i just stated that we need to give our rural sales teams better customer information reporting . '],\n",
       " ['John Ruting', ' i do not quite follow you . what exactly do you mean ? '],\n",
       " ['Alice Linnes',\n",
       "  ' well , we provide our city sales staff with database information on all of our larger clients . we should be providing the same sort of knowledge on our rural customers to our sales staff there . '],\n",
       " ['Jack Peterson', ' would you like to add anything , jennifer ? '],\n",
       " ['Jennifer Miles',\n",
       "  ' i must admit i never thought about rural sales that way before . i have to agree with alice . '],\n",
       " ['Jack Peterson',\n",
       "  ' well , let me begin with this power point presentation ( jack presents his report ). as you can see , we are developing new methods to reach out to our rural customers . '],\n",
       " ['John Ruting',\n",
       "  ' i suggest we break up into groups and discuss the ideas we have seen presented . '],\n",
       " ['Meeting Chairman',\n",
       "  ' unfortunately , we are running short of time . will have to leave that to another time . '],\n",
       " ['Jack Peterson',\n",
       "  ' before we close , let me just summarize the main points '],\n",
       " ['Jack Peterson',\n",
       "  ' rural customers need special help to feel more valued . '],\n",
       " ['Jack Peterson',\n",
       "  ' our sales teams need more accurate information on our customers . '],\n",
       " ['Jack Peterson',\n",
       "  ' a survey will be completed to collect data on spending habits in these areas . '],\n",
       " ['Jack Peterson',\n",
       "  ' the results of this survey will be delivered to our sales teams '],\n",
       " ['Jack Peterson',\n",
       "  ' we are considering specific data mining procedures to help deepen our understanding . '],\n",
       " ['Meeting Chairman',\n",
       "  ' thank you very much jack . right , it looks as though we have covered the main items is there any other business ? '],\n",
       " ['Donald Peters', ' can we fix the next meeting , please ? '],\n",
       " ['Meeting Chairman',\n",
       "  \" good idea donald . how does friday in two weeks time sound to everyone ? let us meet at the same time , 9 o'clock . is that ok for everyone ? excellent . i had like to thank jack for coming to our meeting today . the meeting is closed . \"]]"
      ]
     },
     "execution_count": 10,
     "metadata": {},
     "output_type": "execute_result"
    }
   ],
   "source": [
    "processedConversation"
   ]
  },
  {
   "cell_type": "markdown",
   "metadata": {},
   "source": [
    "# Conversion from 1st person to 3rd person conversation"
   ]
  },
  {
   "cell_type": "code",
   "execution_count": 11,
   "metadata": {},
   "outputs": [
    {
     "data": {
      "text/plain": [
       "{' are ': ' were ',\n",
       " ' us ': ' them ',\n",
       " ' we ': ' they ',\n",
       " ' here ': ' there ',\n",
       " ' has ': ' had ',\n",
       " ' had ': ' did ',\n",
       " ' our ': ' their ',\n",
       " ' am ': ' was ',\n",
       " ' my ': ' their ',\n",
       " ' may ': '  ',\n",
       " ' cannot ': ' could not ',\n",
       " ' today ': ' on day ',\n",
       " ' let me ': ' me ',\n",
       " ' let us get started. ': '  ',\n",
       " ' let us get started ': '  ',\n",
       " ' will ': ' would ',\n",
       " ' let us ': ' they ',\n",
       " ' do ': ' did ',\n",
       " ' have ': ' had ',\n",
       " ' from you all ': ' them ',\n",
       " ' you all ': ' they ',\n",
       " ' thank you ': ' i thanked ',\n",
       " ' welcome ': ' i welcomed ',\n",
       " ' me ': ' i ',\n",
       " ' please ': '  ',\n",
       " ' begin ': ' began ',\n",
       " ' must ': ' would ',\n",
       " ' suggest ': ' suggested ',\n",
       " ' is ': ' was '}"
      ]
     },
     "execution_count": 11,
     "metadata": {},
     "output_type": "execute_result"
    }
   ],
   "source": [
    "with open(\"input/thirdperson.json\", \"r\") as read_file:\n",
    "    data = json.load(read_file)\n",
    "thirdperson = {}\n",
    "for (key, value) in data['thirdperson'].items():\n",
    "    thirdperson[' ' + key + ' '] = ' ' + value + ' '\n",
    "\n",
    "\n",
    "    \n",
    "thirdperson"
   ]
  },
  {
   "cell_type": "code",
   "execution_count": 12,
   "metadata": {},
   "outputs": [
    {
     "data": {
      "text/plain": [
       "[['Meeting Chairman',\n",
       "  ' if they were all there , let them get started . first of all , meeting chairman did like them to  join meeting chairman in welcoming jack peterson , their southwest area sales vice president . '],\n",
       " ['Jack Peterson',\n",
       "  \" thank them for having jack peterson , jack peterson was looking forward to today's meeting . \"],\n",
       " ['Meeting Chairman',\n",
       "  ' meeting chairman did also like to introduce margaret simmons who recently joined their team . '],\n",
       " ['Margaret Simmons',\n",
       "  '  margaret simmons also introduce their assistant , bob hamp . '],\n",
       " ['Meeting Chairman',\n",
       "  ' meeting chairman welcomed bob . meeting chairman was afraid their national sales director , anne trusting , could not be with them on day . she was in kobe at the moment , developing their far east sales force . '],\n",
       " ['Meeting Chairman',\n",
       "  ' let them get started . they were there on day to discuss ways of improving sales in rural market areas . first , let them go over the report from the last meeting which was held on june 24th . right , tom , over to them . '],\n",
       " ['Tom Robbins',\n",
       "  ' thank them mark . tom robbins just summarize the main points of the last meeting . they began the meeting by approving the changes in their sales reporting system discussed on  30th . after briefly revising the changes that would take place , they moved on to a brainstorming session concerning after customer support improvements . them would find a copy of the main ideas developed and discussed in these sessions in the photocopies in front of them . the meeting was declared closed at 11 . 30 . '],\n",
       " ['Meeting Chairman',\n",
       "  \" thank them tom . so , if there was nothing else they need to discuss , let them move on to today's agenda . had them all received a copy of today's agenda ? if them did not mind , meeting chairman did like to skip item 1 and move on to item 2 sales improvement in rural market areas . jack did kindly agreed to give them a report on this matter . jack ? \"],\n",
       " ['Jack Peterson',\n",
       "  ' before jack peterson began the report , jack peterson did like to get some ideas from them all . how did them feel about rural sales in themr sales districts ? jack peterson suggested they go round the table first to get all of themr input . '],\n",
       " ['John Ruting',\n",
       "  ' in their opinion , they had been focusing too much on urban customers and their needs . the way john ruting see things , they need to return to their rural base by developing an advertising campaign to focus on their particular needs . '],\n",
       " ['Alice Linnes',\n",
       "  ' alice linnes was afraid alice linnes could not agree with them . alice linnes think rural customers want to feel as important as their customers living in cities . alice linnes suggested they give their rural sales teams more help with advanced customer information reporting . '],\n",
       " ['Donald Peters',\n",
       "  ' excuse donald peters , donald peters did not catch that . could them repeat that ,  ? '],\n",
       " ['Alice Linnes',\n",
       "  ' alice linnes just stated that they need to give their rural sales teams better customer information reporting . '],\n",
       " ['John Ruting',\n",
       "  ' john ruting did not quite follow them . what exactly did them mean ? '],\n",
       " ['Alice Linnes',\n",
       "  ' well , they provide their city sales staff with database information on all of their larger clients . they should be providing the same sort of knowledge on their rural customers to their sales staff there . '],\n",
       " ['Jack Peterson', ' would them like to add anything , jennifer ? '],\n",
       " ['Jennifer Miles',\n",
       "  ' jennifer miles would admit jennifer miles never thought about rural sales that way before . jennifer miles had to agree with alice . '],\n",
       " ['Jack Peterson',\n",
       "  ' well , jack peterson began with this power point presentation ( jack presents his report ). as them can see , they were developing new methods to reach out to their rural customers . '],\n",
       " ['John Ruting',\n",
       "  ' john ruting suggested they break up into groups and discuss the ideas they had seen presented . '],\n",
       " ['Meeting Chairman',\n",
       "  ' unfortunately , they were running short of time . would had to leave that to another time . '],\n",
       " ['Jack Peterson',\n",
       "  ' before they close , jack peterson just summarize the main points '],\n",
       " ['Jack Peterson',\n",
       "  ' rural customers need special help to feel more valued . '],\n",
       " ['Jack Peterson',\n",
       "  ' their sales teams need more accurate information on their customers . '],\n",
       " ['Jack Peterson',\n",
       "  ' a survey would be completed to collect data on spending habits in these areas . '],\n",
       " ['Jack Peterson',\n",
       "  ' the results of this survey would be delivered to their sales teams '],\n",
       " ['Jack Peterson',\n",
       "  ' they were considering specific data mining procedures to help deepen their understanding . '],\n",
       " ['Meeting Chairman',\n",
       "  ' thank them very much jack . right , it looks as though they had covered the main items was there any other business ? '],\n",
       " ['Donald Peters', ' can they fix the next meeting ,  ? '],\n",
       " ['Meeting Chairman',\n",
       "  \" good idea donald . how does friday in two weeks time sound to everyone ? let them meet at the same time , 9 o'clock . was that ok for everyone ? excellent . meeting chairman did like to thank jack for coming to their meeting on day . the meeting was closed . \"]]"
      ]
     },
     "execution_count": 12,
     "metadata": {},
     "output_type": "execute_result"
    }
   ],
   "source": [
    "finalConversation = []\n",
    "previousSpeaker = ''\n",
    "for speaker, dialog in processedConversation:\n",
    "    for (key, val) in thirdperson.items():\n",
    "        dialog = dialog.lower()\n",
    "        dialog = dialog.replace(key, val)\n",
    "        dialog = dialog.replace(' i ', ' ' +speaker + ' ')\n",
    "        dialog = dialog.replace('i ', ' ' +speaker + ' ')\n",
    "        dialog = dialog.replace('you', previousSpeaker if not previousSpeaker is '' else 'them' )\n",
    "    finalConversation.append([speaker, dialog])\n",
    "    \n",
    "finalConversation"
   ]
  },
  {
   "cell_type": "markdown",
   "metadata": {},
   "source": [
    "# Summarize if it encounters something like summarize."
   ]
  },
  {
   "cell_type": "markdown",
   "metadata": {},
   "source": [
    "Note that we will see the last occurance of lemma 'summarize'.\n",
    "\n",
    "Then all the points that follow for the same speaker count as summary points"
   ]
  },
  {
   "cell_type": "code",
   "execution_count": 13,
   "metadata": {},
   "outputs": [],
   "source": [
    "%pip install spacy\n",
    "import spacy"
   ]
  },
  {
   "cell_type": "code",
   "execution_count": 14,
   "metadata": {},
   "outputs": [],
   "source": [
    "nlp = spacy.load(\"en_core_web_sm\")"
   ]
  },
  {
   "cell_type": "code",
   "execution_count": 15,
   "metadata": {},
   "outputs": [
    {
     "data": {
      "text/plain": [
       "' rural customers need special help to feel more valued .  their sales teams need more accurate information on their customers .  a survey would be completed to collect data on spending habits in these areas .  the results of this survey would be delivered to their sales teams  they were considering specific data mining procedures to help deepen their understanding . '"
      ]
     },
     "execution_count": 15,
     "metadata": {},
     "output_type": "execute_result"
    }
   ],
   "source": [
    "summary = ''\n",
    "summarySpeaker = None\n",
    "for speaker, dialog in finalConversation:\n",
    "    if summarySpeaker is None:\n",
    "        doc = nlp(dialog)\n",
    "        for token in doc:\n",
    "            if token.lemma_ == 'summarize':\n",
    "                # this is the part where we hear someone summarize\n",
    "                # point following this must be a part of the summarization\n",
    "                summarySpeaker = speaker\n",
    "    else:\n",
    "        if speaker == summarySpeaker:\n",
    "            summary = summary + dialog\n",
    "        else:\n",
    "            summarySpeaker = None\n",
    "        \n",
    "summary\n",
    "            "
   ]
  },
  {
   "cell_type": "markdown",
   "metadata": {},
   "source": [
    "# Understanding topics from this summary"
   ]
  },
  {
   "cell_type": "markdown",
   "metadata": {},
   "source": [
    "## removing stopwords"
   ]
  },
  {
   "cell_type": "code",
   "execution_count": 16,
   "metadata": {},
   "outputs": [],
   "source": [
    "doc = nlp(summary)"
   ]
  },
  {
   "cell_type": "code",
   "execution_count": 17,
   "metadata": {},
   "outputs": [
    {
     "name": "stderr",
     "output_type": "stream",
     "text": [
      "/opt/conda/lib/python3.6/runpy.py:193: UserWarning: [W006] No entities to visualize found in Doc object. If this is surprising to you, make sure the Doc was processed using a model that supports named entity recognition, and check the `doc.ents` property manually if necessary.\n",
      "  \"__main__\", mod_spec)\n"
     ]
    },
    {
     "data": {
      "text/html": [
       "<div class=\"entities\" style=\"line-height: 2.5; direction: ltr\"> rural customers need special help to feel more valued .  their sales teams need more accurate information on their customers .  a survey would be completed to collect data on spending habits in these areas .  the results of this survey would be delivered to their sales teams  they were considering specific data mining procedures to help deepen their understanding . </div>"
      ],
      "text/plain": [
       "<IPython.core.display.HTML object>"
      ]
     },
     "metadata": {},
     "output_type": "display_data"
    }
   ],
   "source": [
    "spacy.displacy.render(doc, style='ent',jupyter=True)"
   ]
  },
  {
   "cell_type": "code",
   "execution_count": 18,
   "metadata": {},
   "outputs": [],
   "source": [
    "from nltk.corpus import stopwords\n",
    "from string import punctuation"
   ]
  },
  {
   "cell_type": "code",
   "execution_count": 19,
   "metadata": {},
   "outputs": [
    {
     "data": {
      "text/plain": [
       "{' ',\n",
       " '!',\n",
       " '\"',\n",
       " '#',\n",
       " '$',\n",
       " '%',\n",
       " '&',\n",
       " \"'\",\n",
       " '(',\n",
       " ')',\n",
       " '*',\n",
       " '+',\n",
       " ',',\n",
       " '-',\n",
       " '.',\n",
       " '/',\n",
       " ':',\n",
       " ';',\n",
       " '<',\n",
       " '=',\n",
       " '>',\n",
       " '?',\n",
       " '@',\n",
       " '[',\n",
       " '\\\\',\n",
       " ']',\n",
       " '^',\n",
       " '_',\n",
       " '`',\n",
       " 'a',\n",
       " 'about',\n",
       " 'above',\n",
       " 'after',\n",
       " 'again',\n",
       " 'against',\n",
       " 'ain',\n",
       " 'all',\n",
       " 'am',\n",
       " 'an',\n",
       " 'and',\n",
       " 'any',\n",
       " 'are',\n",
       " 'aren',\n",
       " \"aren't\",\n",
       " 'as',\n",
       " 'at',\n",
       " 'be',\n",
       " 'because',\n",
       " 'been',\n",
       " 'before',\n",
       " 'being',\n",
       " 'below',\n",
       " 'between',\n",
       " 'both',\n",
       " 'but',\n",
       " 'by',\n",
       " 'can',\n",
       " 'couldn',\n",
       " \"couldn't\",\n",
       " 'd',\n",
       " 'did',\n",
       " 'didn',\n",
       " \"didn't\",\n",
       " 'do',\n",
       " 'does',\n",
       " 'doesn',\n",
       " \"doesn't\",\n",
       " 'doing',\n",
       " 'don',\n",
       " \"don't\",\n",
       " 'down',\n",
       " 'during',\n",
       " 'each',\n",
       " 'few',\n",
       " 'for',\n",
       " 'from',\n",
       " 'further',\n",
       " 'had',\n",
       " 'hadn',\n",
       " \"hadn't\",\n",
       " 'has',\n",
       " 'hasn',\n",
       " \"hasn't\",\n",
       " 'have',\n",
       " 'haven',\n",
       " \"haven't\",\n",
       " 'having',\n",
       " 'he',\n",
       " 'her',\n",
       " 'here',\n",
       " 'hers',\n",
       " 'herself',\n",
       " 'him',\n",
       " 'himself',\n",
       " 'his',\n",
       " 'how',\n",
       " 'i',\n",
       " 'if',\n",
       " 'in',\n",
       " 'into',\n",
       " 'is',\n",
       " 'isn',\n",
       " \"isn't\",\n",
       " 'it',\n",
       " \"it's\",\n",
       " 'its',\n",
       " 'itself',\n",
       " 'just',\n",
       " 'll',\n",
       " 'm',\n",
       " 'ma',\n",
       " 'me',\n",
       " 'mightn',\n",
       " \"mightn't\",\n",
       " 'more',\n",
       " 'most',\n",
       " 'mustn',\n",
       " \"mustn't\",\n",
       " 'my',\n",
       " 'myself',\n",
       " 'needn',\n",
       " \"needn't\",\n",
       " 'no',\n",
       " 'nor',\n",
       " 'not',\n",
       " 'now',\n",
       " 'o',\n",
       " 'of',\n",
       " 'off',\n",
       " 'on',\n",
       " 'once',\n",
       " 'only',\n",
       " 'or',\n",
       " 'other',\n",
       " 'our',\n",
       " 'ours',\n",
       " 'ourselves',\n",
       " 'out',\n",
       " 'over',\n",
       " 'own',\n",
       " 're',\n",
       " 's',\n",
       " 'same',\n",
       " 'shan',\n",
       " \"shan't\",\n",
       " 'she',\n",
       " \"she's\",\n",
       " 'should',\n",
       " \"should've\",\n",
       " 'shouldn',\n",
       " \"shouldn't\",\n",
       " 'so',\n",
       " 'some',\n",
       " 'such',\n",
       " 't',\n",
       " 'than',\n",
       " 'that',\n",
       " \"that'll\",\n",
       " 'the',\n",
       " 'their',\n",
       " 'theirs',\n",
       " 'them',\n",
       " 'themselves',\n",
       " 'then',\n",
       " 'there',\n",
       " 'these',\n",
       " 'they',\n",
       " 'this',\n",
       " 'those',\n",
       " 'through',\n",
       " 'to',\n",
       " 'too',\n",
       " 'under',\n",
       " 'until',\n",
       " 'up',\n",
       " 've',\n",
       " 'very',\n",
       " 'was',\n",
       " 'wasn',\n",
       " \"wasn't\",\n",
       " 'we',\n",
       " 'were',\n",
       " 'weren',\n",
       " \"weren't\",\n",
       " 'what',\n",
       " 'when',\n",
       " 'where',\n",
       " 'which',\n",
       " 'while',\n",
       " 'who',\n",
       " 'whom',\n",
       " 'why',\n",
       " 'will',\n",
       " 'with',\n",
       " 'won',\n",
       " \"won't\",\n",
       " 'wouldn',\n",
       " \"wouldn't\",\n",
       " 'y',\n",
       " 'you',\n",
       " \"you'd\",\n",
       " \"you'll\",\n",
       " \"you're\",\n",
       " \"you've\",\n",
       " 'your',\n",
       " 'yours',\n",
       " 'yourself',\n",
       " 'yourselves',\n",
       " '{',\n",
       " '|',\n",
       " '}',\n",
       " '~'}"
      ]
     },
     "execution_count": 19,
     "metadata": {},
     "output_type": "execute_result"
    }
   ],
   "source": [
    "_stopwords = set(stopwords.words('english') + list(punctuation) + list(' '))\n",
    "_stopwords"
   ]
  },
  {
   "cell_type": "code",
   "execution_count": 20,
   "metadata": {},
   "outputs": [
    {
     "data": {
      "text/plain": [
       "['rural',\n",
       " 'customers',\n",
       " 'need',\n",
       " 'special',\n",
       " 'help',\n",
       " 'feel',\n",
       " 'valued',\n",
       " 'sales',\n",
       " 'teams',\n",
       " 'need',\n",
       " 'accurate',\n",
       " 'information',\n",
       " 'customers',\n",
       " 'survey',\n",
       " 'would',\n",
       " 'completed',\n",
       " 'collect',\n",
       " 'data',\n",
       " 'spending',\n",
       " 'habits',\n",
       " 'areas',\n",
       " 'results',\n",
       " 'survey',\n",
       " 'would',\n",
       " 'delivered',\n",
       " 'sales',\n",
       " 'teams',\n",
       " 'considering',\n",
       " 'specific',\n",
       " 'data',\n",
       " 'mining',\n",
       " 'procedures',\n",
       " 'help',\n",
       " 'deepen',\n",
       " 'understanding']"
      ]
     },
     "execution_count": 20,
     "metadata": {},
     "output_type": "execute_result"
    }
   ],
   "source": [
    "word_sent = [word.text for word in doc if word.text not in _stopwords]\n",
    "word_sent"
   ]
  },
  {
   "cell_type": "markdown",
   "metadata": {},
   "source": [
    "## Calculate freq of these words in main text"
   ]
  },
  {
   "cell_type": "code",
   "execution_count": 21,
   "metadata": {},
   "outputs": [],
   "source": [
    "from nltk.probability import FreqDist"
   ]
  },
  {
   "cell_type": "code",
   "execution_count": 22,
   "metadata": {},
   "outputs": [],
   "source": [
    "main_sent = []\n",
    "for speaker, dialog in finalConversation:\n",
    "    dialogdoc = nlp(dialog)\n",
    "    for word in dialogdoc:\n",
    "        if word.text not in _stopwords:\n",
    "            main_sent.append(word.text)"
   ]
  },
  {
   "cell_type": "code",
   "execution_count": 23,
   "metadata": {},
   "outputs": [],
   "source": [
    "fd = {word:freq for word,freq in FreqDist(main_sent).items() if word in word_sent}"
   ]
  },
  {
   "cell_type": "code",
   "execution_count": 24,
   "metadata": {},
   "outputs": [],
   "source": [
    "from heapq import nlargest"
   ]
  },
  {
   "cell_type": "code",
   "execution_count": 25,
   "metadata": {},
   "outputs": [],
   "source": [
    "imp_words = nlargest(10, fd, key=fd.get)"
   ]
  },
  {
   "cell_type": "markdown",
   "metadata": {},
   "source": [
    "above is the list of most common words that are a part of summary"
   ]
  },
  {
   "cell_type": "markdown",
   "metadata": {},
   "source": [
    "now lets find insights based on this data"
   ]
  },
  {
   "cell_type": "code",
   "execution_count": 26,
   "metadata": {},
   "outputs": [],
   "source": [
    "from collections import defaultdict"
   ]
  },
  {
   "cell_type": "code",
   "execution_count": 27,
   "metadata": {},
   "outputs": [],
   "source": [
    "sents = []\n",
    "for speaker, dialog in finalConversation:\n",
    "    sents.append(dialog)"
   ]
  },
  {
   "cell_type": "code",
   "execution_count": 28,
   "metadata": {},
   "outputs": [
    {
     "ename": "NameError",
     "evalue": "name 'freq' is not defined",
     "output_type": "error",
     "traceback": [
      "\u001b[0;31m---------------------------------------------------------------------------\u001b[0m",
      "\u001b[0;31mNameError\u001b[0m                                 Traceback (most recent call last)",
      "\u001b[0;32m<ipython-input-28-78b8c31d63ad>\u001b[0m in \u001b[0;36m<module>\u001b[0;34m()\u001b[0m\n\u001b[1;32m      3\u001b[0m     \u001b[0mdoc\u001b[0m \u001b[0;34m=\u001b[0m \u001b[0mnlp\u001b[0m\u001b[0;34m(\u001b[0m\u001b[0msent\u001b[0m\u001b[0;34m)\u001b[0m\u001b[0;34m\u001b[0m\u001b[0m\n\u001b[1;32m      4\u001b[0m     \u001b[0;32mfor\u001b[0m \u001b[0mw\u001b[0m \u001b[0;32min\u001b[0m \u001b[0mdoc\u001b[0m\u001b[0;34m:\u001b[0m\u001b[0;34m\u001b[0m\u001b[0m\n\u001b[0;32m----> 5\u001b[0;31m         \u001b[0;32mif\u001b[0m \u001b[0mw\u001b[0m\u001b[0;34m.\u001b[0m\u001b[0mtext\u001b[0m \u001b[0;32min\u001b[0m \u001b[0mfreq\u001b[0m\u001b[0;34m:\u001b[0m\u001b[0;34m\u001b[0m\u001b[0m\n\u001b[0m\u001b[1;32m      6\u001b[0m             \u001b[0mranking\u001b[0m\u001b[0;34m[\u001b[0m\u001b[0mi\u001b[0m\u001b[0;34m]\u001b[0m \u001b[0;34m+=\u001b[0m \u001b[0mfreq\u001b[0m\u001b[0;34m[\u001b[0m\u001b[0mw\u001b[0m\u001b[0;34m.\u001b[0m\u001b[0mtext\u001b[0m\u001b[0;34m]\u001b[0m\u001b[0;34m\u001b[0m\u001b[0m\n",
      "\u001b[0;31mNameError\u001b[0m: name 'freq' is not defined"
     ]
    }
   ],
   "source": [
    "ranking = defaultdict(int)\n",
    "for i, sent in enumerate(sents):\n",
    "    doc = nlp(sent)\n",
    "    for w in doc:\n",
    "        if w.text in freq: \n",
    "            ranking[i] += freq[w.text]"
   ]
  },
  {
   "cell_type": "code",
   "execution_count": 29,
   "metadata": {},
   "outputs": [
    {
     "data": {
      "text/plain": [
       "defaultdict(int, {})"
      ]
     },
     "execution_count": 29,
     "metadata": {},
     "output_type": "execute_result"
    }
   ],
   "source": [
    "ranking"
   ]
  },
  {
   "cell_type": "code",
   "execution_count": 30,
   "metadata": {},
   "outputs": [
    {
     "data": {
      "text/plain": [
       "[]"
      ]
     },
     "execution_count": 30,
     "metadata": {},
     "output_type": "execute_result"
    }
   ],
   "source": [
    "sent_idx = nlargest(5, ranking, key=ranking.get)\n",
    "sent_idx"
   ]
  },
  {
   "cell_type": "code",
   "execution_count": 31,
   "metadata": {},
   "outputs": [
    {
     "data": {
      "text/plain": [
       "[]"
      ]
     },
     "execution_count": 31,
     "metadata": {},
     "output_type": "execute_result"
    }
   ],
   "source": [
    "[sents[i] for i in sent_idx]"
   ]
  },
  {
   "cell_type": "code",
   "execution_count": 32,
   "metadata": {},
   "outputs": [],
   "source": []
  }
 ],
 "metadata": {
  "kernelspec": {
   "display_name": "Python 3",
   "language": "python",
   "name": "python3"
  },
  "language_info": {
   "codemirror_mode": {
    "name": "ipython",
    "version": 3
   },
   "file_extension": ".py",
   "mimetype": "text/x-python",
   "name": "python",
   "nbconvert_exporter": "python",
   "pygments_lexer": "ipython3",
   "version": "3.10.6 (tags/v3.10.6:9c7b4bd, Aug  1 2022, 21:53:49) [MSC v.1932 64 bit (AMD64)]"
  },
  "vscode": {
   "interpreter": {
    "hash": "3b8214bdbcddfe95913c8e726854c2e6f782bd26473edb6d5d1c1ac13615c051"
   }
  }
 },
 "nbformat": 4,
 "nbformat_minor": 1
}
